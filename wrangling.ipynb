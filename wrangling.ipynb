{
 "cells": [
  {
   "cell_type": "code",
   "execution_count": 2,
   "id": "25922b3b",
   "metadata": {},
   "outputs": [],
   "source": [
    "import geopandas as gpd"
   ]
  },
  {
   "cell_type": "code",
   "execution_count": 4,
   "id": "e4f6396e",
   "metadata": {},
   "outputs": [
    {
     "data": {
      "text/html": [
       "<div>\n",
       "<style scoped>\n",
       "    .dataframe tbody tr th:only-of-type {\n",
       "        vertical-align: middle;\n",
       "    }\n",
       "\n",
       "    .dataframe tbody tr th {\n",
       "        vertical-align: top;\n",
       "    }\n",
       "\n",
       "    .dataframe thead th {\n",
       "        text-align: right;\n",
       "    }\n",
       "</style>\n",
       "<table border=\"1\" class=\"dataframe\">\n",
       "  <thead>\n",
       "    <tr style=\"text-align: right;\">\n",
       "      <th></th>\n",
       "      <th>categoria_de_uso_registro</th>\n",
       "      <th>legislacao</th>\n",
       "      <th>geometry</th>\n",
       "    </tr>\n",
       "  </thead>\n",
       "  <tbody>\n",
       "    <tr>\n",
       "      <th>0</th>\n",
       "      <td>HIS 2</td>\n",
       "      <td>PDE2014eLPUOS2016</td>\n",
       "      <td>POINT (-46.57370 -23.56345)</td>\n",
       "    </tr>\n",
       "    <tr>\n",
       "      <th>1</th>\n",
       "      <td>HIS 2</td>\n",
       "      <td>PDE2014eLPUOS2016</td>\n",
       "      <td>POINT (-46.57476 -23.57687)</td>\n",
       "    </tr>\n",
       "    <tr>\n",
       "      <th>2</th>\n",
       "      <td>R2V-01</td>\n",
       "      <td>PDE2014eLPUOS2004</td>\n",
       "      <td>POINT (-46.56348 -23.58115)</td>\n",
       "    </tr>\n",
       "  </tbody>\n",
       "</table>\n",
       "</div>"
      ],
      "text/plain": [
       "  categoria_de_uso_registro         legislacao                     geometry\n",
       "0                     HIS 2  PDE2014eLPUOS2016  POINT (-46.57370 -23.56345)\n",
       "1                     HIS 2  PDE2014eLPUOS2016  POINT (-46.57476 -23.57687)\n",
       "2                    R2V-01  PDE2014eLPUOS2004  POINT (-46.56348 -23.58115)"
      ]
     },
     "execution_count": 4,
     "metadata": {},
     "output_type": "execute_result"
    }
   ],
   "source": [
    "rawColumns = [\"alvaras__3\", \"alvaras_16\", \"geometry\"]\n",
    "raw = gpd.read_file(\"./data/raw/alvaras_por_lote_sp.shp\")\n",
    "raw = raw[rawColumns].rename(columns={\"alvaras__3\": \"categoria_de_uso_registro\", \"alvaras_16\": \"legislacao\"})\n",
    "raw.head(3)"
   ]
  },
  {
   "cell_type": "code",
   "execution_count": 5,
   "id": "d613c29e",
   "metadata": {},
   "outputs": [
    {
     "data": {
      "text/plain": [
       "8873"
      ]
     },
     "execution_count": 5,
     "metadata": {},
     "output_type": "execute_result"
    }
   ],
   "source": [
    "len(raw)"
   ]
  },
  {
   "cell_type": "markdown",
   "id": "cd09dd4c",
   "metadata": {},
   "source": [
    "### Filtrando construções sob legislação do PDE 2014"
   ]
  },
  {
   "cell_type": "code",
   "execution_count": 6,
   "id": "ea1f7169",
   "metadata": {},
   "outputs": [],
   "source": [
    "def hisBoolean(category):\n",
    "    if \"HIS\" in category or \"H.I.S\" in category: return True\n",
    "    return False"
   ]
  },
  {
   "cell_type": "code",
   "execution_count": 7,
   "id": "d6f1dc9a",
   "metadata": {},
   "outputs": [
    {
     "name": "stdout",
     "output_type": "stream",
     "text": [
      "2963\n"
     ]
    },
    {
     "name": "stderr",
     "output_type": "stream",
     "text": [
      "/Users/camillaperotto/Documents/his-sp/venv/lib/python3.9/site-packages/geopandas/geodataframe.py:1543: SettingWithCopyWarning: \n",
      "A value is trying to be set on a copy of a slice from a DataFrame.\n",
      "Try using .loc[row_indexer,col_indexer] = value instead\n",
      "\n",
      "See the caveats in the documentation: https://pandas.pydata.org/pandas-docs/stable/user_guide/indexing.html#returning-a-view-versus-a-copy\n",
      "  super().__setitem__(key, value)\n"
     ]
    },
    {
     "data": {
      "text/html": [
       "<div>\n",
       "<style scoped>\n",
       "    .dataframe tbody tr th:only-of-type {\n",
       "        vertical-align: middle;\n",
       "    }\n",
       "\n",
       "    .dataframe tbody tr th {\n",
       "        vertical-align: top;\n",
       "    }\n",
       "\n",
       "    .dataframe thead th {\n",
       "        text-align: right;\n",
       "    }\n",
       "</style>\n",
       "<table border=\"1\" class=\"dataframe\">\n",
       "  <thead>\n",
       "    <tr style=\"text-align: right;\">\n",
       "      <th></th>\n",
       "      <th>categoria_de_uso_registro</th>\n",
       "      <th>legislacao</th>\n",
       "      <th>geometry</th>\n",
       "      <th>has_his</th>\n",
       "    </tr>\n",
       "  </thead>\n",
       "  <tbody>\n",
       "    <tr>\n",
       "      <th>0</th>\n",
       "      <td>HIS 2</td>\n",
       "      <td>PDE2014eLPUOS2016</td>\n",
       "      <td>POINT (-46.57370 -23.56345)</td>\n",
       "      <td>True</td>\n",
       "    </tr>\n",
       "    <tr>\n",
       "      <th>1</th>\n",
       "      <td>HIS 2</td>\n",
       "      <td>PDE2014eLPUOS2016</td>\n",
       "      <td>POINT (-46.57476 -23.57687)</td>\n",
       "      <td>True</td>\n",
       "    </tr>\n",
       "    <tr>\n",
       "      <th>7</th>\n",
       "      <td>H.I.S</td>\n",
       "      <td>PDE2014eLPUOS2016</td>\n",
       "      <td>POINT (-46.57853 -23.56656)</td>\n",
       "      <td>True</td>\n",
       "    </tr>\n",
       "  </tbody>\n",
       "</table>\n",
       "</div>"
      ],
      "text/plain": [
       "  categoria_de_uso_registro         legislacao                     geometry  \\\n",
       "0                     HIS 2  PDE2014eLPUOS2016  POINT (-46.57370 -23.56345)   \n",
       "1                     HIS 2  PDE2014eLPUOS2016  POINT (-46.57476 -23.57687)   \n",
       "7                     H.I.S  PDE2014eLPUOS2016  POINT (-46.57853 -23.56656)   \n",
       "\n",
       "   has_his  \n",
       "0     True  \n",
       "1     True  \n",
       "7     True  "
      ]
     },
     "execution_count": 7,
     "metadata": {},
     "output_type": "execute_result"
    }
   ],
   "source": [
    "gdf = raw.loc[(raw.legislacao==\"PDE2014eLPUOS2016\")]\n",
    "gdf[\"has_his\"] = gdf.categoria_de_uso_registro.apply(hisBoolean)\n",
    "print(len(gdf))\n",
    "gdf.head(3)"
   ]
  },
  {
   "cell_type": "code",
   "execution_count": 8,
   "id": "c1501a96",
   "metadata": {},
   "outputs": [],
   "source": [
    "gdf.to_file(\"./data/pde2014.geojson\", driver=\"GeoJSON\")"
   ]
  },
  {
   "cell_type": "code",
   "execution_count": null,
   "id": "14858b28",
   "metadata": {},
   "outputs": [],
   "source": []
  }
 ],
 "metadata": {
  "kernelspec": {
   "display_name": "Python 3 (ipykernel)",
   "language": "python",
   "name": "python3"
  },
  "language_info": {
   "codemirror_mode": {
    "name": "ipython",
    "version": 3
   },
   "file_extension": ".py",
   "mimetype": "text/x-python",
   "name": "python",
   "nbconvert_exporter": "python",
   "pygments_lexer": "ipython3",
   "version": "3.9.7"
  }
 },
 "nbformat": 4,
 "nbformat_minor": 5
}
